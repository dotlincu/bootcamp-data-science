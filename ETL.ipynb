{
  "nbformat": 4,
  "nbformat_minor": 0,
  "metadata": {
    "colab": {
      "provenance": [],
      "collapsed_sections": [
        "X-5O4AxtpSi8",
        "c2Q4wn2dpY3a",
        "VtxVcIrKvplz",
        "nT1nw16s6Qap",
        "URLAi7_eSs-P"
      ],
      "authorship_tag": "ABX9TyOBO5KmR/L/e7mF0YOoNLyQ",
      "include_colab_link": true
    },
    "kernelspec": {
      "name": "python3",
      "display_name": "Python 3"
    },
    "language_info": {
      "name": "python"
    }
  },
  "cells": [
    {
      "cell_type": "markdown",
      "metadata": {
        "id": "view-in-github",
        "colab_type": "text"
      },
      "source": [
        "<a href=\"https://colab.research.google.com/github/sirlincu/bootcamp-data-science/blob/main/ETL.ipynb\" target=\"_parent\"><img src=\"https://colab.research.google.com/assets/colab-badge.svg\" alt=\"Open In Colab\"/></a>"
      ]
    },
    {
      "cell_type": "markdown",
      "source": [
        "print(\"vc é \" + input(\"escreva:\"))\n"
      ],
      "metadata": {
        "id": "ZKoiDHceo5kC"
      }
    },
    {
      "cell_type": "code",
      "source": [
        "print(\"sexo:\"+input(\"teste:\"))"
      ],
      "metadata": {
        "colab": {
          "base_uri": "https://localhost:8080/"
        },
        "id": "vl0zDAqzpLKv",
        "outputId": "35c50de1-95f7-46f7-f9d1-b0720f04dab0"
      },
      "execution_count": null,
      "outputs": [
        {
          "output_type": "stream",
          "name": "stdout",
          "text": [
            "teste:nunca\n",
            "sexo:nunca\n"
          ]
        }
      ]
    },
    {
      "cell_type": "markdown",
      "source": [
        "# Estrutura de repetição"
      ],
      "metadata": {
        "id": "X-5O4AxtpSi8"
      }
    },
    {
      "cell_type": "code",
      "source": [
        "texto = input(\"escreva:\")\n",
        "VOGAIS = \"AEIOU\"\n",
        "\n",
        "for letra in texto:\n",
        "  if letra.upper() in VOGAIS:\n",
        "    print(letra, end=\" \")\n",
        "  else:\n",
        "    print()"
      ],
      "metadata": {
        "colab": {
          "base_uri": "https://localhost:8080/"
        },
        "id": "xqgBaWEEnfmJ",
        "outputId": "b5ac23d4-a8a4-4940-a0e1-91cccc6a31d7"
      },
      "execution_count": null,
      "outputs": [
        {
          "output_type": "stream",
          "name": "stdout",
          "text": [
            "escreva:banana\n",
            "\n",
            "a \n",
            "a \n",
            "a "
          ]
        }
      ]
    },
    {
      "cell_type": "code",
      "source": [
        "for numero in range(0, 51, 4):\n",
        "  if numero == 28:\n",
        "    continue\n",
        "  elif numero == 36:\n",
        "    break\n",
        "  print(numero, end=\" \")\n"
      ],
      "metadata": {
        "colab": {
          "base_uri": "https://localhost:8080/"
        },
        "id": "GWDAHKkwoCC5",
        "outputId": "9444df7e-e901-4800-faa3-3212e41a15cd"
      },
      "execution_count": null,
      "outputs": [
        {
          "output_type": "stream",
          "name": "stdout",
          "text": [
            "0 4 8 12 16 20 24 32 "
          ]
        }
      ]
    },
    {
      "cell_type": "markdown",
      "source": [
        "# String"
      ],
      "metadata": {
        "id": "c2Q4wn2dpY3a"
      }
    },
    {
      "cell_type": "code",
      "source": [
        "curso = \"   Python \"\n",
        "print(curso.strip())\n",
        "print(curso.lstrip())\n",
        "print(curso.rstrip())\n",
        "print(curso.center(20, \"#\"))\n",
        "print(\".\".join(curso))"
      ],
      "metadata": {
        "colab": {
          "base_uri": "https://localhost:8080/"
        },
        "id": "9mpFcjI2pamq",
        "outputId": "1c780711-65e4-4bba-a2a2-b209e9bc2fb4"
      },
      "execution_count": null,
      "outputs": [
        {
          "output_type": "stream",
          "name": "stdout",
          "text": [
            "Python\n",
            "Python \n",
            "   Python\n",
            "#####   Python #####\n",
            " . . .P.y.t.h.o.n. \n"
          ]
        }
      ]
    },
    {
      "cell_type": "code",
      "source": [
        "nome = \"robs\"\n",
        "idade = 18\n",
        "profissao = \"sexo\"\n",
        "lingua = \"english\"\n",
        "PI = 3.14159\n",
        "\n",
        "# oldstyle\n",
        "print(\"ola, meu nome é %s. eu tenho %d anos, estudo %s e faço %s.\" % (nome, idade, lingua, profissao))\n",
        "# metodo format\n",
        "print(\"ola, meu nome é {}. eu tenho {} anos, estudo {} e faço {}.\".format(nome, idade, lingua, profissao))\n",
        "# f-string\n",
        "print(f\"ola, meu nome é {nome}. eu tenho {idade} anos, estudo {lingua} e faço {profissao}.\")\n",
        "\n",
        "print(f\"valor de PI: {PI:.2f}\")"
      ],
      "metadata": {
        "colab": {
          "base_uri": "https://localhost:8080/"
        },
        "id": "vvvMqdvrpnBt",
        "outputId": "4130b18b-45a3-48a4-e020-62be960dc319"
      },
      "execution_count": null,
      "outputs": [
        {
          "output_type": "stream",
          "name": "stdout",
          "text": [
            "ola, meu nome é robs. eu tenho 18 anos, estudo english e faço sexo.\n",
            "ola, meu nome é robs. eu tenho 18 anos, estudo english e faço sexo.\n",
            "ola, meu nome é robs. eu tenho 18 anos, estudo english e faço sexo.\n",
            "valor de PI: 3.14\n"
          ]
        }
      ]
    },
    {
      "cell_type": "code",
      "source": [
        "nome = \"robso pereira gomes\"\n",
        "\n",
        "# fatiamento string: [start:stop[,step]]\n",
        "print(nome[0])\n",
        "print(nome[:9])\n",
        "print(nome[10:])\n",
        "print(nome[6:13])\n",
        "print(nome[6:13:2])\n",
        "print(nome[:])\n",
        "print(nome[::-1])\n"
      ],
      "metadata": {
        "colab": {
          "base_uri": "https://localhost:8080/"
        },
        "id": "Ge-ofyaIsUbO",
        "outputId": "fa278c9d-7a41-4c81-d91d-1e7a7ed959e4"
      },
      "execution_count": null,
      "outputs": [
        {
          "output_type": "stream",
          "name": "stdout",
          "text": [
            "r\n",
            "robso per\n",
            "ira gomes\n",
            "pereira\n",
            "pria\n",
            "robso pereira gomes\n",
            "semog arierep osbor\n"
          ]
        }
      ]
    },
    {
      "cell_type": "code",
      "source": [
        "mensagem = f'''\n",
        "ola meu nome é {nome},\n",
        "  estou aprendendo {lingua}.\n",
        "'''\n",
        "print(mensagem)"
      ],
      "metadata": {
        "colab": {
          "base_uri": "https://localhost:8080/"
        },
        "id": "RQw4LFo6ty5A",
        "outputId": "667ef27f-5e88-4cec-944f-49155f994a37"
      },
      "execution_count": null,
      "outputs": [
        {
          "output_type": "stream",
          "name": "stdout",
          "text": [
            "\n",
            "ola meu nome é robso pereira gomes, \n",
            "  estou aprendendo english.\n",
            "\n"
          ]
        }
      ]
    },
    {
      "cell_type": "markdown",
      "source": [
        "# Listas"
      ],
      "metadata": {
        "id": "VtxVcIrKvplz"
      }
    },
    {
      "cell_type": "code",
      "source": [
        "frutas = [\"laranja\", \"maca\", \"uva\", \"pera\", \"banana\", \"jaca\"]\n",
        "print(frutas)\n",
        "letras = list('python')\n",
        "print(letras)\n",
        "numeros = list(range(10))\n",
        "print(numeros)\n",
        "carro = [\"gol\", \"g5\", 2016]\n",
        "print(carro)\n",
        "matriz = [\n",
        "    [1, 'a', 2],\n",
        "    ['e', 3, 4],\n",
        "    [5, 6, 'i']\n",
        "]"
      ],
      "metadata": {
        "colab": {
          "base_uri": "https://localhost:8080/"
        },
        "id": "BfJw127-vrYt",
        "outputId": "f4f010e8-267a-460d-d2e5-2c1442db944b"
      },
      "execution_count": null,
      "outputs": [
        {
          "output_type": "stream",
          "name": "stdout",
          "text": [
            "['laranja', 'maca', 'uva', 'pera', 'banana', 'jaca']\n",
            "['p', 'y', 't', 'h', 'o', 'n']\n",
            "[0, 1, 2, 3, 4, 5, 6, 7, 8, 9]\n",
            "['gol', 'g5', 2016]\n"
          ]
        }
      ]
    },
    {
      "cell_type": "code",
      "source": [
        "print(frutas[-1])\n",
        "# print(matriz[::-1])\n",
        "\n",
        "# for linha in matriz:\n",
        "#   for coluna in linha:\n",
        "#     print(coluna)\n",
        "\n",
        "# for linha in matriz:\n",
        "#   for i in range(len(linha)):\n",
        "#     print(f\"dado: {linha[i]}\")\n",
        "\n",
        "# for indice, dado in enumerate(matriz):\n",
        "#   print(f\"{indice}: {dado}\")\n"
      ],
      "metadata": {
        "colab": {
          "base_uri": "https://localhost:8080/"
        },
        "id": "RsAQ2GRhxe-H",
        "outputId": "bd8924f0-7373-45ed-90bb-c65b4e0fad45"
      },
      "execution_count": null,
      "outputs": [
        {
          "output_type": "stream",
          "name": "stdout",
          "text": [
            "uva\n",
            "dado: 1\n",
            "dado: a\n",
            "dado: 2\n",
            "dado: e\n",
            "dado: 3\n",
            "dado: 4\n",
            "dado: 5\n",
            "dado: 6\n",
            "dado: i\n"
          ]
        }
      ]
    },
    {
      "cell_type": "code",
      "source": [
        "pares = []\n",
        "\n",
        "# for numero in numeros:\n",
        "#   if numero % 2 == 0:\n",
        "#     pares.append(numero) ↓ ↓ ↓\n",
        "\n",
        "pares = [numero for numero in numeros if numero % 2 == 0]\n",
        "quadrado = [numero ** 2 for numero in numeros]\n",
        "print(pares)\n",
        "print(quadrado)"
      ],
      "metadata": {
        "colab": {
          "base_uri": "https://localhost:8080/"
        },
        "id": "g2K4PlTO6o7T",
        "outputId": "9d453592-62c9-411a-b7ee-4c7bb1bbe120"
      },
      "execution_count": null,
      "outputs": [
        {
          "output_type": "stream",
          "name": "stdout",
          "text": [
            "[0, 2, 4, 6, 8]\n",
            "[0, 1, 4, 9, 16, 25, 36, 49, 64, 81]\n"
          ]
        }
      ]
    },
    {
      "cell_type": "code",
      "source": [
        "novaLista = [1, 'python', [10, 20, 50]]\n",
        "l2 = novaLista.copy()\n",
        "novaLista.clear()\n",
        "print(l2, pares)\n",
        "\n",
        "l2.extend(pares)\n",
        "print(l2, pares)"
      ],
      "metadata": {
        "colab": {
          "base_uri": "https://localhost:8080/"
        },
        "id": "ngUqwYSk7sZj",
        "outputId": "8535ecec-ec42-4c1c-bde0-04c7a05e0a7d"
      },
      "execution_count": null,
      "outputs": [
        {
          "output_type": "stream",
          "name": "stdout",
          "text": [
            "[1, 'python', [10, 20, 50]] [0, 2, 4, 6, 8]\n",
            "[1, 'python', [10, 20, 50], 0, 2, 4, 6, 8] [0, 2, 4, 6, 8]\n"
          ]
        }
      ]
    },
    {
      "cell_type": "code",
      "source": [
        "frutas.sort()\n",
        "print(frutas)\n",
        "frutas.sort(key=lambda x:len(x))\n",
        "print(frutas)"
      ],
      "metadata": {
        "colab": {
          "base_uri": "https://localhost:8080/"
        },
        "id": "w8iUxhuU9hZY",
        "outputId": "7ea256eb-0bee-4d6c-deef-51fcb61f3bf5"
      },
      "execution_count": null,
      "outputs": [
        {
          "output_type": "stream",
          "name": "stdout",
          "text": [
            "['banana', 'jaca', 'laranja', 'maca', 'pera', 'uva']\n",
            "['uva', 'jaca', 'maca', 'pera', 'banana', 'laranja']\n"
          ]
        }
      ]
    },
    {
      "cell_type": "markdown",
      "source": [
        "## Tupla"
      ],
      "metadata": {
        "id": "Kk10p1gg4bsM"
      }
    },
    {
      "cell_type": "code",
      "source": [
        "# TUPLA COM VIRGULA NO FINAL E SEMPRE USA PARENTESES ()\n",
        "sucos = (\"laranja\", \"uva\", \"pera\", \"morango\",)\n",
        "print(sucos)\n",
        "print(tuple(\"python\"))\n",
        "print(tuple([1, 2, 3, 4]))"
      ],
      "metadata": {
        "colab": {
          "base_uri": "https://localhost:8080/"
        },
        "id": "2myOR5u74d5w",
        "outputId": "1a0142cf-1391-4857-eb60-1c6888add924"
      },
      "execution_count": null,
      "outputs": [
        {
          "output_type": "stream",
          "name": "stdout",
          "text": [
            "('laranja', 'uva', 'pera', 'morango')\n",
            "('p', 'y', 't', 'h', 'o', 'n')\n",
            "(1, 2, 3, 4)\n"
          ]
        }
      ]
    },
    {
      "cell_type": "markdown",
      "source": [
        "## Conjuntos"
      ],
      "metadata": {
        "id": "nT1nw16s6Qap"
      }
    },
    {
      "cell_type": "code",
      "source": [
        "# CONJUNTOS USA CHAVES {} E REMOVE DUPLICATAS\n",
        "print({1, 2, 3, 4, 2})\n",
        "print(set([1, 2, 3, 4, 5, 3]))\n",
        "print(set(\"abacaxi\"))\n",
        "print(set((\"palio\", \"gol\", \"celta\", \"palio\")))\n"
      ],
      "metadata": {
        "colab": {
          "base_uri": "https://localhost:8080/"
        },
        "id": "2Ysoh1ip6TRf",
        "outputId": "70d236b5-53c3-428a-a773-62e032806bdb"
      },
      "execution_count": null,
      "outputs": [
        {
          "output_type": "stream",
          "name": "stdout",
          "text": [
            "{1, 2, 3, 4}\n",
            "{1, 2, 3, 4, 5}\n",
            "{'i', 'x', 'a', 'b', 'c'}\n",
            "{'celta', 'palio', 'gol'}\n"
          ]
        }
      ]
    },
    {
      "cell_type": "code",
      "source": [
        "conjunto_a = {1, 2, 3}\n",
        "conjunto_b = {2, 4, 1, 3, 5, 6}\n",
        "\n",
        "print(\"intersecao:\", conjunto_a.intersection(conjunto_b))\n",
        "print(\"diferenca a em b:\", conjunto_a.difference(conjunto_b))\n",
        "print(\"diferenca b em a:\", conjunto_b.difference(conjunto_a))\n",
        "print(\"diferente da intersecao:\", conjunto_a.symmetric_difference(conjunto_b))\n",
        "print(\"tudo de b em a:\", conjunto_a.issuperset(conjunto_b))\n",
        "print(\"tudo de a em b:\", conjunto_b.issuperset(conjunto_a))\n",
        "print(\"algo:\", conjunto_a.isdisjoint(conjunto_b))\n",
        "\n"
      ],
      "metadata": {
        "colab": {
          "base_uri": "https://localhost:8080/"
        },
        "id": "spyB6aaD7g0c",
        "outputId": "de41e86c-822c-4498-db28-ad1863ceb208"
      },
      "execution_count": null,
      "outputs": [
        {
          "output_type": "stream",
          "name": "stdout",
          "text": [
            "intersecao: {1, 2, 3}\n",
            "diferenca a em b: set()\n",
            "diferenca b em a: {4, 5, 6}\n",
            "diferente da intersecao: {4, 5, 6}\n",
            "tudo de b em a: False\n",
            "tudo de a em b: True\n",
            "algo: False\n"
          ]
        }
      ]
    },
    {
      "cell_type": "code",
      "source": [
        "sorteio = {1, 20}\n",
        "sorteio.add(54)\n",
        "print(sorteio)\n",
        "sorteio.add(20)\n",
        "print(sorteio, \"tam:\", len(sorteio))\n",
        "# sorteio.discard(1)\n",
        "# print(sorteio)\n",
        "sorteio.pop()\n",
        "print(sorteio, \"tam:\", len(sorteio))\n"
      ],
      "metadata": {
        "colab": {
          "base_uri": "https://localhost:8080/"
        },
        "id": "fxSahmrA9De-",
        "outputId": "54be0dea-9ca6-4c29-f206-7b0ebf8d43b0"
      },
      "execution_count": null,
      "outputs": [
        {
          "output_type": "stream",
          "name": "stdout",
          "text": [
            "{1, 20, 54}\n",
            "{1, 20, 54} tam: 3\n",
            "{20, 54} tam: 2\n"
          ]
        }
      ]
    },
    {
      "cell_type": "markdown",
      "source": [
        "# Dicionário"
      ],
      "metadata": {
        "id": "URLAi7_eSs-P"
      }
    },
    {
      "cell_type": "code",
      "source": [
        "pessoa = {\"nome\": \"guilherme\", \"idade\": 28}\n",
        "pessoa = dict(nome=\"guilherme\", idade=28)\n",
        "pessoa[\"telefone\"] = \"3366-9988\"\n",
        "\n",
        "print(pessoa)\n"
      ],
      "metadata": {
        "colab": {
          "base_uri": "https://localhost:8080/"
        },
        "id": "RLK1AO8ZSv4b",
        "outputId": "8c7f5bcb-0175-4054-d7de-930846b5267f"
      },
      "execution_count": null,
      "outputs": [
        {
          "output_type": "stream",
          "name": "stdout",
          "text": [
            "{'nome': 'guilherme', 'idade': 28, 'telefone': '3366-9988'}\n"
          ]
        }
      ]
    },
    {
      "cell_type": "code",
      "source": [
        "contatos = {\n",
        "    \"gui@gmail\": {\"nome\": \"gui\", \"tel\": \"3399\"},\n",
        "    \"ren@gmail\": {\"nome\": \"ren\", \"tel\": \"5588\"},\n",
        "    \"ped@gmail\": {\"nome\": \"ped\", \"tel\": \"7711\", \"extra\": {\"a\": 1}}\n",
        "}\n",
        "\n",
        "for contato in contatos.values():\n",
        "  if(\"extra\") in contato:\n",
        "    print(f\"ok no {contato}\")\n",
        "# print(contatos[\"gui@gmail\"])\n",
        "\n",
        "for chave, valor in contatos.items():\n",
        "  print(chave, valor)\n"
      ],
      "metadata": {
        "colab": {
          "base_uri": "https://localhost:8080/"
        },
        "id": "wBSmR7pZTrpj",
        "outputId": "3a12434a-7321-40c0-ca9f-884bc3c9a221"
      },
      "execution_count": null,
      "outputs": [
        {
          "output_type": "stream",
          "name": "stdout",
          "text": [
            "ok no {'nome': 'ped', 'tel': '7711', 'extra': {'a': 1}}\n",
            "gui@gmail {'nome': 'gui', 'tel': '3399'}\n",
            "ren@gmail {'nome': 'ren', 'tel': '5588'}\n",
            "ped@gmail {'nome': 'ped', 'tel': '7711', 'extra': {'a': 1}}\n"
          ]
        }
      ]
    },
    {
      "cell_type": "code",
      "source": [
        "copia = contatos.copy()\n",
        "copia[\"gui@gmail\"] = {\"nome\":\"sal\"}\n",
        "\n",
        "for chave, valor in contatos.items():\n",
        "  print(chave, valor)\n",
        "print(\"copia\")\n",
        "for chave, valor in copia.items():\n",
        "  print(chave, valor)\n"
      ],
      "metadata": {
        "colab": {
          "base_uri": "https://localhost:8080/"
        },
        "id": "98U5KNDlXlCR",
        "outputId": "bd21944e-9813-4fb3-b835-2c9acf6fe99a"
      },
      "execution_count": null,
      "outputs": [
        {
          "output_type": "stream",
          "name": "stdout",
          "text": [
            "gui@gmail {'nome': 'gui', 'tel': '3399'}\n",
            "ren@gmail {'nome': 'ren', 'tel': '5588'}\n",
            "ped@gmail {'nome': 'ped', 'tel': '7711', 'extra': {'a': 1}}\n",
            "copia\n",
            "gui@gmail {'nome': 'sal'}\n",
            "ren@gmail {'nome': 'ren', 'tel': '5588'}\n",
            "ped@gmail {'nome': 'ped', 'tel': '7711', 'extra': {'a': 1}}\n"
          ]
        }
      ]
    },
    {
      "cell_type": "code",
      "source": [
        "# resultado = contatos.pop(\"gui@gmail\", \"nao encontrado\")\n",
        "# print(resultado)\n",
        "for chave, valor in contatos.items():\n",
        "  print(chave, valor)\n"
      ],
      "metadata": {
        "colab": {
          "base_uri": "https://localhost:8080/"
        },
        "id": "B7c2XezybYzd",
        "outputId": "4223d9c1-ede5-4208-e39b-18e320c2c832"
      },
      "execution_count": null,
      "outputs": [
        {
          "output_type": "stream",
          "name": "stdout",
          "text": [
            "gui@gmail {'nome': 'gui', 'tel': '3399'}\n",
            "ren@gmail {'nome': 'ren', 'tel': '5588'}\n",
            "ped@gmail {'nome': 'ped', 'tel': '7711', 'extra': {'a': 1}}\n"
          ]
        }
      ]
    },
    {
      "cell_type": "code",
      "source": [
        "print(\"ren@gmail\" in contatos)\n",
        "print(\"oed@gmail\" in contatos)"
      ],
      "metadata": {
        "colab": {
          "base_uri": "https://localhost:8080/"
        },
        "id": "AOuw9UXETIrc",
        "outputId": "3b498725-fac7-4236-bfe7-cc51ea74e45e"
      },
      "execution_count": null,
      "outputs": [
        {
          "output_type": "stream",
          "name": "stdout",
          "text": [
            "True\n",
            "False\n"
          ]
        }
      ]
    },
    {
      "cell_type": "markdown",
      "source": [
        "# Funções"
      ],
      "metadata": {
        "id": "ZjFS8Vhoejte"
      }
    },
    {
      "cell_type": "code",
      "source": [
        "def msg():\n",
        "  print(\"msg1\")\n",
        "def msg2(nome, letra):\n",
        "  print(f\"msg2 {nome} e {letra}\")\n",
        "def msg3(nome=\"lala\"):\n",
        "  print(f\"msg3 {nome}\")\n",
        "\n",
        "msg()\n",
        "msg2(\"guileme\", 5)\n",
        "msg3(3)"
      ],
      "metadata": {
        "colab": {
          "base_uri": "https://localhost:8080/"
        },
        "id": "i3Obwq-MeloU",
        "outputId": "0334d704-0d54-4775-edef-60f34295ba39"
      },
      "execution_count": null,
      "outputs": [
        {
          "output_type": "stream",
          "name": "stdout",
          "text": [
            "msg1\n",
            "msg2 guileme e 5\n",
            "msg3 3\n"
          ]
        }
      ]
    },
    {
      "cell_type": "code",
      "source": [
        "def total(numeros):\n",
        "  return sum(numeros)\n",
        "print(total([10,45,20]))\n"
      ],
      "metadata": {
        "colab": {
          "base_uri": "https://localhost:8080/"
        },
        "id": "JnyiSDVO0d_f",
        "outputId": "3c6a537d-b2ff-401d-e693-3ff7dbf55857"
      },
      "execution_count": null,
      "outputs": [
        {
          "output_type": "stream",
          "name": "stdout",
          "text": [
            "75\n"
          ]
        }
      ]
    },
    {
      "cell_type": "code",
      "source": [
        "# def poema(data_extenso, *args, **kwargs):\n",
        "def poema(data_extenso, *lista, **dicionario):\n",
        "  texto = \"\\n\".join(lista)\n",
        "  meta_dados = \"\\n\".join([f\"{chave.title()}: {valor}\" for chave, valor\n",
        "                          in dicionario.items()])\n",
        "  msg = f\"{data_extenso}\\n\\n{texto}\\n\\n{meta_dados}\"\n",
        "  print(msg)\n",
        "\n",
        "poema(\"sexta-feira, 22/08/22\", \"zen of python\",\n",
        "      \"beautiful is better than ugly.\", \"sexo\",\n",
        "      \"sexo\", \"sexo\", author=\"tim peters\", ano=1999)"
      ],
      "metadata": {
        "colab": {
          "base_uri": "https://localhost:8080/"
        },
        "id": "eELqaRfI1kcl",
        "outputId": "15b97907-f301-4ba5-a981-fc6639a6fadb"
      },
      "execution_count": null,
      "outputs": [
        {
          "output_type": "stream",
          "name": "stdout",
          "text": [
            "sexta-feira, 22/08/22\n",
            "\n",
            "zen of python\n",
            "beautiful is better than ugly.\n",
            "sexo\n",
            "sexo\n",
            "sexo\n",
            "\n",
            "Author: tim peters\n",
            "Ano: 1999\n"
          ]
        }
      ]
    },
    {
      "cell_type": "code",
      "source": [
        "# positional only\n",
        "def criar_carro(modelo, ano, placa, /, marca, motor, combustivel):\n",
        "  print(modelo, ano, placa, marca, motor, combustivel)\n",
        "\n",
        "criar_carro(\"palio\", 1999, \"ab1234\", marca=\"fiat\",\n",
        "            motor=\"1.0\", combustivel=\"gasolina\")\n",
        "\n",
        "# keyword only\n",
        "def criar_carro(*, modelo, ano, placa, marca, motor, combustivel):\n",
        "  print(modelo, ano, placa, marca, motor, combustivel)\n",
        "criar_carro(modelo=\"palio\", ano=1999, placa=\"ab1234\", marca=\"fiat\",\n",
        "            motor=\"1.0\", combustivel=\"gasolina\")\n",
        "\n",
        "# hybrid\n",
        "def criar_carro(modelo, ano, placa, /, *, marca, motor, combustivel):\n",
        "  print(modelo, ano, placa, marca, motor, combustivel)\n",
        "criar_carro(\"palio\", 1999, \"ab1234\", marca=\"fiat\",\n",
        "            motor=\"1.0\", combustivel=\"gasolina\")"
      ],
      "metadata": {
        "colab": {
          "base_uri": "https://localhost:8080/"
        },
        "id": "QFkqsnuCBCgy",
        "outputId": "371413b2-8b08-4847-ab93-7eec6fbbd353"
      },
      "execution_count": null,
      "outputs": [
        {
          "output_type": "stream",
          "name": "stdout",
          "text": [
            "palio 1999 ab1234 fiat 1.0 gasolina\n",
            "palio 1999 ab1234 fiat 1.0 gasolina\n",
            "palio 1999 ab1234 fiat 1.0 gasolina\n"
          ]
        }
      ]
    },
    {
      "cell_type": "code",
      "source": [
        "def somar(a, b):\n",
        "  return a+b\n",
        "\n",
        "def exibir(a, b, funcao):\n",
        "  resultado = funcao(a, b)\n",
        "  print(f\"resultado: {resultado}\")\n",
        "\n",
        "exibir(10, 10, somar)"
      ],
      "metadata": {
        "colab": {
          "base_uri": "https://localhost:8080/"
        },
        "id": "eWWeaI5aCzbL",
        "outputId": "48f0e87b-f179-4e95-8740-4c5d11151f94"
      },
      "execution_count": null,
      "outputs": [
        {
          "output_type": "stream",
          "name": "stdout",
          "text": [
            "resultado: 20\n"
          ]
        }
      ]
    },
    {
      "cell_type": "code",
      "source": [
        "def sal_bonus(bonus):\n",
        "  global salario\n",
        "  salario += bonus\n",
        "  return salario\n",
        "\n",
        "salario = 2000\n",
        "sal_bonus(500)"
      ],
      "metadata": {
        "colab": {
          "base_uri": "https://localhost:8080/"
        },
        "id": "I5CjUcAsDrfY",
        "outputId": "8143c2cd-444f-4251-85d1-5d2f9119a0c0"
      },
      "execution_count": null,
      "outputs": [
        {
          "output_type": "execute_result",
          "data": {
            "text/plain": [
              "2500"
            ]
          },
          "metadata": {},
          "execution_count": 24
        }
      ]
    },
    {
      "cell_type": "markdown",
      "source": [
        "\n",
        "# Tipos de Análises BI\n",
        "\n",
        "\n"
      ],
      "metadata": {
        "id": "OQodmKG8pmYS"
      }
    },
    {
      "cell_type": "markdown",
      "source": [
        "- **Descritiva -> O que aconteceu?**\n",
        "\t* Primeira análise\n",
        "\t* Caracterizar, sumarizar ...\n",
        "\t* Entender: comportamento dos dados\n",
        "- **Diagnóstica -> Por que aconteceu?**\n",
        "\t* Encontrar relações de causa e efeito no cenário descrito\n",
        "\t* Processo probabilístico\n",
        "- **Preditiva\t-> O que vai acontecer?**\n",
        "\t* Tentar prever um cenário\n",
        "\t* Probabilidade\n",
        "\t* Análise de tendências\n",
        "- **Prescritivo -> O que fazer?**\n",
        "\t* Diagnóstico de prescrição\n",
        "\t* Resolução de um problema\n",
        "\t* Subsídio dos impactos\n"
      ],
      "metadata": {
        "id": "OGjXpB4-2WIe"
      }
    },
    {
      "cell_type": "markdown",
      "source": [
        "- **Percurso - Data Analytics & Big Data**\n",
        "  1. Data Source\n",
        "  2. ETL\n",
        "  3. Data Warehouse\n",
        "  4. Análise de dados\n",
        "  5. Visualização de dados\n"
      ],
      "metadata": {
        "id": "aMcjWfXU2ZDC"
      }
    },
    {
      "cell_type": "markdown",
      "source": [
        "# AIN PROJETINHO PAINNN"
      ],
      "metadata": {
        "id": "PctKSMQGp-sn"
      }
    },
    {
      "cell_type": "code",
      "source": [
        "UserID\n",
        "1\n",
        "2\n",
        "3\n",
        "4\n",
        "5"
      ],
      "metadata": {
        "id": "voDf9EDhDnaj"
      },
      "execution_count": null,
      "outputs": []
    },
    {
      "cell_type": "code",
      "source": [
        "sdw2023_api_url = \"https://sdw-2023-prd.up.railway.app\"\n",
        "\n"
      ],
      "metadata": {
        "id": "Pe0V3vZoqBQO"
      },
      "execution_count": 7,
      "outputs": []
    },
    {
      "cell_type": "markdown",
      "source": [
        "## Extract"
      ],
      "metadata": {
        "id": "89fLIsP-zC1w"
      }
    },
    {
      "cell_type": "code",
      "source": [
        "import pandas as pd\n",
        "\n",
        "df = pd.read_csv('SDW2023.csv')\n",
        "user_ids = df[\"UserID\"].tolist()\n",
        "print(user_ids)"
      ],
      "metadata": {
        "colab": {
          "base_uri": "https://localhost:8080/"
        },
        "id": "7g_OUtQ96c5K",
        "outputId": "c023c0dc-17a6-48f3-fe5a-9613c8c19280"
      },
      "execution_count": 8,
      "outputs": [
        {
          "output_type": "stream",
          "name": "stdout",
          "text": [
            "[1, 2, 3, 4, 5]\n"
          ]
        }
      ]
    },
    {
      "cell_type": "code",
      "source": [
        "import requests\n",
        "import json\n",
        "\n",
        "def get_user(id):\n",
        "  response = requests.get(f'{sdw2023_api_url}/users/{id}')\n",
        "  return response.json() if response.status_code == 200 else None\n",
        "\n",
        "users = [user for id in user_ids if (user := get_user(id)) is not None]\n",
        "print(json.dumps (users, indent=2))"
      ],
      "metadata": {
        "colab": {
          "base_uri": "https://localhost:8080/"
        },
        "id": "-P3dxHKGqENx",
        "outputId": "c265b1f1-4a02-443c-b5d4-37044d42f14a"
      },
      "execution_count": 9,
      "outputs": [
        {
          "output_type": "stream",
          "name": "stdout",
          "text": [
            "[\n",
            "  {\n",
            "    \"id\": 1,\n",
            "    \"name\": \"Devweekerson\",\n",
            "    \"account\": {\n",
            "      \"id\": 1,\n",
            "      \"number\": \"01.097954-4\",\n",
            "      \"agency\": \"2030\",\n",
            "      \"balance\": 624.12,\n",
            "      \"limit\": 1000.0\n",
            "    },\n",
            "    \"card\": {\n",
            "      \"id\": 1,\n",
            "      \"number\": \"xxxx xxxx xxxx 1111\",\n",
            "      \"limit\": 2000.0\n",
            "    },\n",
            "    \"features\": [\n",
            "      {\n",
            "        \"id\": 2,\n",
            "        \"icon\": \"https://digitalinnovationone.github.io/santander-dev-week-2023-api/icons/pay.svg\",\n",
            "        \"description\": \"Pagar\"\n",
            "      },\n",
            "      {\n",
            "        \"id\": 3,\n",
            "        \"icon\": \"https://digitalinnovationone.github.io/santander-dev-week-2023-api/icons/transfer.svg\",\n",
            "        \"description\": \"Transferir\"\n",
            "      },\n",
            "      {\n",
            "        \"id\": 4,\n",
            "        \"icon\": \"https://digitalinnovationone.github.io/santander-dev-week-2023-api/icons/account.svg\",\n",
            "        \"description\": \"Conta Corrente\"\n",
            "      },\n",
            "      {\n",
            "        \"id\": 5,\n",
            "        \"icon\": \"https://digitalinnovationone.github.io/santander-dev-week-2023-api/icons/cards.svg\",\n",
            "        \"description\": \"Cart\\u00f5es\"\n",
            "      },\n",
            "      {\n",
            "        \"id\": 1,\n",
            "        \"icon\": \"https://digitalinnovationone.github.io/santander-dev-week-2023-api/icons/pix.svg\",\n",
            "        \"description\": \"PIX\"\n",
            "      }\n",
            "    ],\n",
            "    \"news\": [\n",
            "      {\n",
            "        \"id\": 1,\n",
            "        \"icon\": \"https://digitalinnovationone.github.io/santander-dev-week-2023-api/icons/credit.svg\",\n",
            "        \"description\": \"O Santander tem solu\\u00e7\\u00f5es de cr\\u00e9dito sob medida pra voc\\u00ea. Confira!\"\n",
            "      },\n",
            "      {\n",
            "        \"id\": 2,\n",
            "        \"icon\": \"https://digitalinnovationone.github.io/santander-dev-week-2023-api/icons/insurance.svg\",\n",
            "        \"description\": \"Santander Seguro Casa, seu faz-tudo. Mais de 50 servi\\u00e7os pra voc\\u00ea. Confira!\"\n",
            "      }\n",
            "    ]\n",
            "  }\n",
            "]\n"
          ]
        }
      ]
    },
    {
      "cell_type": "markdown",
      "source": [
        "## Transform"
      ],
      "metadata": {
        "id": "672TIIjuzbyC"
      }
    },
    {
      "cell_type": "code",
      "source": [],
      "metadata": {
        "id": "Q4fFtlCFy--y"
      },
      "execution_count": null,
      "outputs": []
    }
  ]
}